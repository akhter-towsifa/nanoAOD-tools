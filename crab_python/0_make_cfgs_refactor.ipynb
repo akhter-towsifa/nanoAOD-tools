{
 "cells": [
  {
   "cell_type": "code",
   "execution_count": null,
   "metadata": {},
   "outputs": [],
   "source": [
    "%load_ext autoreload\n",
    "%autoreload 2"
   ]
  },
  {
   "cell_type": "code",
   "execution_count": null,
   "metadata": {},
   "outputs": [],
   "source": [
    "from IPython.core.display import display, HTML\n",
    "display(HTML(\"<style>.container { width:100% !important; }</style>\"))"
   ]
  },
  {
   "cell_type": "code",
   "execution_count": null,
   "metadata": {},
   "outputs": [],
   "source": [
    "import pandas as pd\n",
    "import os\n",
    "from run_nano.sample_list import sample_df"
   ]
  },
  {
   "cell_type": "code",
   "execution_count": null,
   "metadata": {},
   "outputs": [],
   "source": [
    " processor_run_string = \"\"\"python run_processor.py  {infile} {era} '{runPeriod}' \"{triggers}\" {btagWP} {btag_type} {selector} --isMC={isMC} --crab\"\"\""
   ]
  },
  {
   "cell_type": "code",
   "execution_count": null,
   "metadata": {},
   "outputs": [],
   "source": [
    "era_dict = {\n",
    "            \"deepcsv\": {\n",
    "                2016:.6321,\n",
    "                2017:.4941,\n",
    "                2018:.4184,\n",
    "            },\n",
    "           \"btagDeepFlavB\": {\n",
    "                2016:.3093,\n",
    "                2017:.3033,\n",
    "                2018:.2770,\n",
    "            },\n",
    "        }\n",
    "\n",
    "conditions = [{\n",
    "    'era':2017,\n",
    "    'runPeriod':'',\n",
    "    'triggers':['HLT_DoubleEle33_CaloIdL_MW'],\n",
    "    'btagWP':era_dict['deepcsv'][2017],\n",
    "    'btag_type':'deepcsv',\n",
    "    'selector':'minseok',\n",
    "    'isMC':False,\n",
    "    'infile':'$1',\n",
    "    'json': 'Cert_294927-306462_13TeV_EOY2017ReReco_Collisions17_JSON.txt',\n",
    "}]"
   ]
  },
  {
   "cell_type": "code",
   "execution_count": null,
   "metadata": {},
   "outputs": [],
   "source": [
    "bash_script = '''\n",
    "#this is not mean to be run locally\n",
    "#\n",
    "echo Check if TTY\n",
    "if [ \"`tty`\" != \"not a tty\" ]; then\n",
    "  echo \"YOU SHOULD NOT RUN THIS IN INTERACTIVE, IT DELETES YOUR LOCAL FILES\"\n",
    "else\n",
    "\n",
    "echo \"ENV...................................\"\n",
    "env \n",
    "echo \"VOMS\"\n",
    "voms-proxy-info -all\n",
    "echo \"CMSSW BASE, python path, pwd\"\n",
    "echo $CMSSW_BASE \n",
    "echo $PYTHON_PATH\n",
    "echo $PWD \n",
    "rm -rf $CMSSW_BASE/lib/\n",
    "rm -rf $CMSSW_BASE/src/\n",
    "rm -rf $CMSSW_BASE/module/\n",
    "rm -rf $CMSSW_BASE/python/\n",
    "mv lib $CMSSW_BASE/lib\n",
    "mv src $CMSSW_BASE/src\n",
    "mv module $CMSSW_BASE/module\n",
    "mv python $CMSSW_BASE/python\n",
    "\n",
    "echo Found Proxy in: $X509_USER_PROXY\n",
    "{command}\n",
    "fi\n",
    "'''"
   ]
  },
  {
   "cell_type": "code",
   "execution_count": null,
   "metadata": {},
   "outputs": [],
   "source": [
    "#produce a crab_script for each condition group\n",
    "for i, cond in enumerate(conditions):\n",
    "    bash_script_keys = {\"command\": processor_run_string.format(**cond)}\n",
    "    name = 'bash_scripts/bash_script_{era}_{selector}_{btag_type}_isMC_{isMC}.sh'.format(**cond)\n",
    "    script_text = bash_script.format(**bash_script_keys)\n",
    "    conditions[i]['bash_script'] = name\n",
    "    with open(name, 'w') as f:\n",
    "        f.write(script_text)"
   ]
  },
  {
   "cell_type": "code",
   "execution_count": null,
   "metadata": {},
   "outputs": [],
   "source": [
    "crab_cfg = '''\n",
    "from WMCore.Configuration import Configuration\n",
    "\n",
    "config = Configuration()\n",
    "\n",
    "config.section_('General')\n",
    "config.General.requestName = '{requestName}'\n",
    "config.General.transferLogs = False\n",
    "config.section_('JobType')\n",
    "config.JobType.pluginName = 'Analysis'\n",
    "config.JobType.psetName = 'PSet.py'\n",
    "config.JobType.scriptExe = '{bash_script}'\n",
    "# hadd nano will not be needed once nano tools are in cmssw\n",
    "config.JobType.inputFiles = ['run_processor.py', '../scripts/haddnano.py', 'keep_and_drop_bff.txt']\n",
    "config.JobType.sendPythonFolder = True\n",
    "config.section_('Data')\n",
    "config.Data.inputDataset = '{das}'\n",
    "#config.Data.inputDBS = 'phys03'\n",
    "config.Data.inputDBS = 'global'\n",
    "config.Data.splitting = 'FileBased'\n",
    "#config.Data.splitting = 'EventAwareLumiBased'\n",
    "config.Data.unitsPerJob = 1\n",
    "if '{json}'!=0:\n",
    "    config.Data.lumiMask = '{json}'\n",
    "\n",
    "config.Data.outLFNDirBase = '/store/group/phys_exotica/bffZprime/nanoAODskimmed/crab/{era}'\n",
    "config.Data.publication = False\n",
    "config.Data.outputDatasetTag = '{datasetTag}'\n",
    "config.section_('Site')\n",
    "config.Site.storageSite = 'T2_CH_CERN'\n",
    "# config.section_('User')\n",
    "#config.User.voGroup = 'dcms'\n",
    "config.JobType.allowUndistributedCMSSW = True'''"
   ]
  },
  {
   "cell_type": "code",
   "execution_count": null,
   "metadata": {},
   "outputs": [],
   "source": [
    "sample_df_filtered = sample_df[(sample_df.era==2017) & (sample_df.ismc==0)]\n",
    "for i, row in sample_df_filtered.iterrows():\n",
    "    #stand in for better system to get conditions\n",
    "    condition = conditions[0]\n",
    "    #make request name\n",
    "    _, samplename, metaname, datatier = row['das'].split('/')\n",
    "    requestName = \"{}_{}_{}_{}_{}_{}\".format(row['era'], row['type'], row['name'], samplename, \n",
    "                                             condition['btag_type'], condition['selector'])\n",
    "    outname = '{}_{}_{}'.format(row['name'], condition['btag_type'], condition['selector'])\n",
    "    cfg_key = {\n",
    "        'requestName': requestName,\n",
    "        'bash_script': condition['bash_script'],\n",
    "        'das': row['das'],\n",
    "        'era': row['era'],\n",
    "        'datasetTag': outname,\n",
    "        'json': condition['json'],\n",
    "    }\n",
    "    crab_cfg_name = 'crab_cfg/crab_{}.py'.format(requestName)\n",
    "    with open(crab_cfg_name, 'w') as f:\n",
    "        f.write(crab_cfg.format(**cfg_key))\n",
    "    print('crab submit -c {} --dryrun'.format(crab_cfg_name))"
   ]
  },
  {
   "cell_type": "code",
   "execution_count": null,
   "metadata": {},
   "outputs": [],
   "source": []
  },
  {
   "cell_type": "code",
   "execution_count": null,
   "metadata": {},
   "outputs": [],
   "source": []
  }
 ],
 "metadata": {
  "kernelspec": {
   "display_name": "Python 2",
   "language": "python",
   "name": "python2"
  },
  "language_info": {
   "codemirror_mode": {
    "name": "ipython",
    "version": 2
   },
   "file_extension": ".py",
   "mimetype": "text/x-python",
   "name": "python",
   "nbconvert_exporter": "python",
   "pygments_lexer": "ipython2",
   "version": "2.7.15+"
  }
 },
 "nbformat": 4,
 "nbformat_minor": 2
}
