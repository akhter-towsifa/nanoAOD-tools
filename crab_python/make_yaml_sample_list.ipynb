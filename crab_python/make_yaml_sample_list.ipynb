{
 "cells": [
  {
   "cell_type": "code",
   "execution_count": null,
   "metadata": {},
   "outputs": [],
   "source": [
    "from run_nano.inspect_xsdb import *\n",
    "from run_nano.sample_list import sample_df\n",
    "from fuzzywuzzy import fuzz\n",
    "import pprint\n",
    "import pandas as pd"
   ]
  },
  {
   "cell_type": "code",
   "execution_count": null,
   "metadata": {},
   "outputs": [],
   "source": [
    "###\n",
    "## Get xsec info from xsdb\n",
    "###"
   ]
  },
  {
   "cell_type": "code",
   "execution_count": null,
   "metadata": {},
   "outputs": [],
   "source": [
    "# run, probably in command line to enter pwd\n",
    "! cern-get-sso-cookie --cert ~/.globus/usercert.pem        \\\n",
    "                      --key  ~/.globus/userkey.pem         \\\n",
    "                      -u https://cms-gen-dev.cern.ch/xsdb/ \\\n",
    "                      -o cookie.txt"
   ]
  },
  {
   "cell_type": "code",
   "execution_count": null,
   "metadata": {},
   "outputs": [],
   "source": [
    "#create xsdb class\n",
    "xsdb = XSDB(\"cookie.txt\")"
   ]
  },
  {
   "cell_type": "code",
   "execution_count": null,
   "metadata": {},
   "outputs": [],
   "source": [
    "def get_process_name(row):\n",
    "    return row.das.split('/')[1]"
   ]
  },
  {
   "cell_type": "code",
   "execution_count": null,
   "metadata": {},
   "outputs": [],
   "source": [
    "def get_query(**kwargs):\n",
    "    return xsdb.get(kwargs)\n",
    "\n",
    "def get_and_match_row(row):\n",
    "    results = get_query(DAS=row.das)\n",
    "    #if exact match, return row\n",
    "    if len(results)==1: return results[0]\n",
    "    #find same process\n",
    "    results = get_query(process_name=row.process_name)\n",
    "    #return empty dict if no results\n",
    "    if len(results)==0: return {}\n",
    "    #if only one return row\n",
    "    if len(results)==1: return results[0]\n",
    "    #find best fuzzy fit\n",
    "    scores = []\n",
    "    for result in results:\n",
    "        ratio = fuzz.ratio(result['DAS'], row.das)\n",
    "        result['ratio'] = ratio\n",
    "        scores.append(result)\n",
    "    scores = sorted(scores, key=lambda x: -x['ratio'])\n",
    "    if len(results)>0: return results[0]\n",
    "\n"
   ]
  },
  {
   "cell_type": "code",
   "execution_count": null,
   "metadata": {},
   "outputs": [],
   "source": [
    "sample_df['process_name'] = sample_df.apply(get_process_name, axis=1)"
   ]
  },
  {
   "cell_type": "code",
   "execution_count": null,
   "metadata": {},
   "outputs": [],
   "source": [
    "das_results = pd.DataFrame(sample_df.apply(get_and_match_row, axis=1).tolist())"
   ]
  },
  {
   "cell_type": "code",
   "execution_count": null,
   "metadata": {},
   "outputs": [],
   "source": [
    "sample_df = pd.concat([sample_df, das_results], axis=1)"
   ]
  },
  {
   "cell_type": "code",
   "execution_count": null,
   "metadata": {},
   "outputs": [],
   "source": [
    "sample_df.to_csv('xsdb_output.csv')"
   ]
  },
  {
   "cell_type": "code",
   "execution_count": null,
   "metadata": {},
   "outputs": [],
   "source": [
    "sample_df = pd.read_csv('xsdb_output.csv')"
   ]
  },
  {
   "cell_type": "code",
   "execution_count": null,
   "metadata": {},
   "outputs": [],
   "source": [
    "###\n",
    "## format yml\n",
    "###"
   ]
  },
  {
   "cell_type": "code",
   "execution_count": null,
   "metadata": {},
   "outputs": [],
   "source": [
    "# Make paths to fileglobs"
   ]
  },
  {
   "cell_type": "code",
   "execution_count": null,
   "metadata": {},
   "outputs": [],
   "source": [
    "store_path ='/eos/cms/store/group/phys_exotica/bffZprime/nanoAODskimmed/crab'"
   ]
  },
  {
   "cell_type": "code",
   "execution_count": null,
   "metadata": {},
   "outputs": [],
   "source": [
    "import os"
   ]
  },
  {
   "cell_type": "code",
   "execution_count": null,
   "metadata": {},
   "outputs": [],
   "source": [
    "def make_path(pp, dir_list):\n",
    "    '''format path for globs'''\n",
    "    if len(dir_list) == 1: return pp+\"/\"+dir_list[0]+\"/*/*/*.root\"\n",
    "    elif len(dir_list) == 0: return \"NA\"  \n",
    "    else: return pp+\"/\"+\"{multiple}\"+\"/*/*/*.root\""
   ]
  },
  {
   "cell_type": "code",
   "execution_count": null,
   "metadata": {
    "scrolled": false
   },
   "outputs": [],
   "source": [
    "def make_path_row(row):\n",
    "    era = row.era\n",
    "    process_path = \"{}/{}/{}\".format(store_path, row.era, row.process_name)\n",
    "    try:\n",
    "        dirs = os.listdir(process_path)\n",
    "    except:\n",
    "        return {\"bTagEff\": \"Not Found\", \"fileglob\": \"Not Found\"}\n",
    "    effs = filter(lambda x: \"eff\" in x, dirs)\n",
    "    non_effs = filter(lambda x: not \"eff\" in x, dirs)\n",
    "    \n",
    "    #path to btagging eff\n",
    "    effs_path = make_path(process_path, effs)\n",
    "    #path to file glob  \n",
    "    sample_path = make_path(process_path, non_effs)\n",
    "    return {\"bTagEff\": effs_path, \"fileglob\": sample_path}"
   ]
  },
  {
   "cell_type": "code",
   "execution_count": null,
   "metadata": {
    "scrolled": false
   },
   "outputs": [],
   "source": [
    "glob_df = pd.DataFrame(sample_df.apply(make_path_row, axis=1).tolist())"
   ]
  },
  {
   "cell_type": "code",
   "execution_count": null,
   "metadata": {},
   "outputs": [],
   "source": [
    "yml_df = pd.concat([sample_df, glob_df], axis=1)"
   ]
  },
  {
   "cell_type": "code",
   "execution_count": null,
   "metadata": {},
   "outputs": [],
   "source": [
    "import yaml"
   ]
  },
  {
   "cell_type": "code",
   "execution_count": null,
   "metadata": {
    "scrolled": true
   },
   "outputs": [],
   "source": [
    "for era in [2016, 2017, 2018]:\n",
    "    tdf = yml_df[yml_df.era==era].drop_duplicates(subset=['process_name'])\n",
    "    tdf['nevts'] = 0\n",
    "    tdf['xsec'] = tdf['cross_section']*1000\n",
    "    tdf.loc[tdf.ismc==0, 'nevts'] = 1\n",
    "    tdf.loc[tdf.ismc==0, 'xsec'] = 1\n",
    "    yml_dict = tdf[['bTagEff', 'fileglob', 'ismc', 'name', 'nevts', 'xsec']].to_dict(orient='records')\n",
    "    with open('yml/samples_{}_{}.yaml'.format(era, \"DeepCSV\"), 'w') as f:\n",
    "        f.write(yaml.dump(yml_dict))"
   ]
  },
  {
   "cell_type": "code",
   "execution_count": null,
   "metadata": {},
   "outputs": [],
   "source": [
    "for x in sample_df:\n",
    "    print(x)"
   ]
  },
  {
   "cell_type": "code",
   "execution_count": null,
   "metadata": {},
   "outputs": [],
   "source": [
    "pd.options.display.max_colwidth = 1000"
   ]
  },
  {
   "cell_type": "code",
   "execution_count": null,
   "metadata": {
    "scrolled": false
   },
   "outputs": [],
   "source": [
    "print(sample_df[['shower', 'das', 'era', 'MCM']].to_latex())"
   ]
  },
  {
   "cell_type": "code",
   "execution_count": null,
   "metadata": {},
   "outputs": [],
   "source": [
    "sample_df[sample_df.type!='data'][['shower', 'das', 'era', 'MCM']]"
   ]
  },
  {
   "cell_type": "code",
   "execution_count": null,
   "metadata": {},
   "outputs": [],
   "source": [
    "pd.set_option('display.max_rows', 1000)"
   ]
  },
  {
   "cell_type": "code",
   "execution_count": null,
   "metadata": {},
   "outputs": [],
   "source": []
  }
 ],
 "metadata": {
  "kernelspec": {
   "display_name": "Python 2",
   "language": "python",
   "name": "python2"
  },
  "language_info": {
   "codemirror_mode": {
    "name": "ipython",
    "version": 2
   },
   "file_extension": ".py",
   "mimetype": "text/x-python",
   "name": "python",
   "nbconvert_exporter": "python",
   "pygments_lexer": "ipython2",
   "version": "2.7.15+"
  }
 },
 "nbformat": 4,
 "nbformat_minor": 2
}
