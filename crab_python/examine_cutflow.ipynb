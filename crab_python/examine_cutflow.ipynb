{
 "cells": [
  {
   "cell_type": "code",
   "execution_count": null,
   "metadata": {},
   "outputs": [],
   "source": [
    "import uproot\n",
    "import matplotlib.pyplot as plt\n",
    "import numpy as np\n",
    "import glob"
   ]
  },
  {
   "cell_type": "code",
   "execution_count": null,
   "metadata": {},
   "outputs": [],
   "source": [
    "samples = {\n",
    "    \"bff (200GeV)\": \"bff/*.root\",\n",
    "    \"tt\": \"one/*.root\",\n",
    "    \"dy(50_120)\": \"two/*.root\",\n",
    "    \"dy(400_800)\": \"three/*.root\"\n",
    "}"
   ]
  },
  {
   "cell_type": "code",
   "execution_count": null,
   "metadata": {},
   "outputs": [],
   "source": [
    "!ls *.root"
   ]
  },
  {
   "cell_type": "code",
   "execution_count": null,
   "metadata": {},
   "outputs": [],
   "source": [
    "samples = {\n",
    "    \"EG\": \"EG_nanoaod_Skim.root\",\n",
    "}"
   ]
  },
  {
   "cell_type": "code",
   "execution_count": null,
   "metadata": {},
   "outputs": [],
   "source": [
    "def get_numpy_cutflow(_upf):\n",
    "    return  _upf['denis_cutflow_weighted'].values()\n",
    "\n",
    "def get_values(file_glob, normalize=False, zero_value=-1, density=0):\n",
    "    files = glob.glob(file_glob)\n",
    "    for i, root_file in enumerate(files):\n",
    "        _upf = uproot.open(root_file)\n",
    "        if i == 0:\n",
    "            cutflow = get_numpy_cutflow(_upf)\n",
    "        else:\n",
    "            cutflow += get_numpy_cutflow(_upf)\n",
    "    if zero_value > 0: cutflow[0] = zero_value\n",
    "    if density: cutflow = cutflow/cutflow[0]\n",
    "    return cutflow\n",
    "\n",
    "def make_value_dict(sample_dict):\n",
    "    return {k: get_values(v, zero_value=-1, density=1) for k,v in sample_dict.items()}"
   ]
  },
  {
   "cell_type": "code",
   "execution_count": null,
   "metadata": {
    "scrolled": false
   },
   "outputs": [],
   "source": [
    "value_dict = make_value_dict(samples)"
   ]
  },
  {
   "cell_type": "code",
   "execution_count": null,
   "metadata": {},
   "outputs": [],
   "source": [
    "def plot_cutflow(ax, values, normalize=False, offset=0, **kwargs):\n",
    "    cut_names = [\n",
    "        'Total',\n",
    "        'HLT step',\n",
    "        '1st electron',\n",
    "        '2nd electron',\n",
    "        'opposite sign electron',\n",
    "        'no muon',\n",
    "        'nlowptlep',\n",
    "        'combined electron cuts (should be identical to 7)',\n",
    "        'one b-tagged jet',\n",
    "        'no second jet (if applicable) (CR13)',\n",
    "    ]\n",
    "    x = np.arange(len(cut_names))\n",
    "    if normalize: values = values/values[0]\n",
    "    ax.bar(x+offset, values, **kwargs)\n",
    "    ax.set_xticks(x)\n",
    "    ax.set_xticklabels(cut_names)"
   ]
  },
  {
   "cell_type": "code",
   "execution_count": null,
   "metadata": {},
   "outputs": [],
   "source": [
    "fig, ax = plt.subplots(figsize=(30,10))\n",
    "n_plots = len(value_dict)\n",
    "for i, (k,v) in enumerate(value_dict.items()):\n",
    "    #add boundary between each bin in cutflow\n",
    "    boundary=.1\n",
    "    width = (1.0-boundary)/n_plots\n",
    "    offset = float(i)/n_plots*(1.0-boundary)\n",
    "    plot_cutflow(ax, v, offset=offset, width = width, label=k)\n",
    "    print(\"{}:{}\".format(k, v))\n",
    "ax.legend()\n",
    "ax.set_yscale('log')\n",
    "fig.savefig(\"cutflow_denis.png\", facecolor='white')"
   ]
  },
  {
   "cell_type": "code",
   "execution_count": null,
   "metadata": {},
   "outputs": [],
   "source": [
    "cut_names = [\n",
    "        'Total',\n",
    "        'HLT step',\n",
    "        '1st muon',\n",
    "        '2nd muon',\n",
    "        'no electron',\n",
    "        'opposite sign muons',\n",
    "        'nlowptlep',\n",
    "        'combined muon cuts (should be identical to 7)',\n",
    "        'first b-tagged jet',\n",
    "        'second jet (if applicable) (SR1)',\n",
    "    ]"
   ]
  },
  {
   "cell_type": "code",
   "execution_count": null,
   "metadata": {},
   "outputs": [],
   "source": [
    "cut_names"
   ]
  },
  {
   "cell_type": "code",
   "execution_count": null,
   "metadata": {},
   "outputs": [],
   "source": []
  }
 ],
 "metadata": {
  "kernelspec": {
   "display_name": "Python 3",
   "language": "python",
   "name": "python3"
  },
  "language_info": {
   "codemirror_mode": {
    "name": "ipython",
    "version": 2
   },
   "file_extension": ".py",
   "mimetype": "text/x-python",
   "name": "python",
   "nbconvert_exporter": "python",
   "pygments_lexer": "ipython2",
   "version": "2.7.15+"
  }
 },
 "nbformat": 4,
 "nbformat_minor": 2
}
