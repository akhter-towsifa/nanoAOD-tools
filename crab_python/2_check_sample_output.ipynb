{
 "cells": [
  {
   "cell_type": "code",
   "execution_count": null,
   "metadata": {},
   "outputs": [],
   "source": [
    "import re\n",
    "import glob\n",
    "import uproot as upr\n",
    "import numpy as np\n",
    "import os"
   ]
  },
  {
   "cell_type": "code",
   "execution_count": null,
   "metadata": {},
   "outputs": [],
   "source": [
    "topLevelDirs = glob.glob('/eos/cms/store/group/phys_exotica/bffZprime/nanoAODskimmed/crab_bffv2/201*')"
   ]
  },
  {
   "cell_type": "code",
   "execution_count": null,
   "metadata": {},
   "outputs": [],
   "source": [
    "def get_run_num(string): return list(map(int,re.findall('([0-9]+)_([0-9]+)/0000',string)[0]))"
   ]
  },
  {
   "cell_type": "code",
   "execution_count": null,
   "metadata": {},
   "outputs": [],
   "source": [
    "def get_file_ending(directory):\n",
    "    return [dirs+\"/\"+f for (dirs, subdirs, fs) in os.walk(directory) for f in fs if f.endswith(\".root\")]"
   ]
  },
  {
   "cell_type": "code",
   "execution_count": null,
   "metadata": {},
   "outputs": [],
   "source": [
    "def rootFileExists(tld):\n",
    "    file_list = get_file_ending(tld)\n",
    "    #find the most recent run\n",
    "    try:\n",
    "        runs = np.unique(list(map(get_run_num, file_list)), axis=0)\n",
    "        most_recent_run = max(runs[:,0])\n",
    "        # sort out only files in most recent run\n",
    "        file_list = list(filter(lambda x: str(most_recent_run) in x, file_list))\n",
    "    except Exception as e:\n",
    "        print(e)\n",
    "        return False\n",
    "    if len(file_list) == 0: \n",
    "        print(tld)\n",
    "        return False\n",
    "    try:\n",
    "        upf = upr.open(file_list[0])\n",
    "        #test if uncorrelated in event\n",
    "        upf['Events']['Jet_btagSF_deepflavour_M_up_uncorrelated']\n",
    "        return True\n",
    "    except:\n",
    "        #print(file_list[0])\n",
    "        return False"
   ]
  },
  {
   "cell_type": "code",
   "execution_count": null,
   "metadata": {},
   "outputs": [],
   "source": [
    "rootFileExists(topLevelDirs[1])"
   ]
  },
  {
   "cell_type": "code",
   "execution_count": null,
   "metadata": {
    "scrolled": true
   },
   "outputs": [],
   "source": [
    "for tld in topLevelDirs:\n",
    "    if rootFileExists(tld): print(tld.split('/')[-1], tld.split('/')[-2])\n"
   ]
  },
  {
   "cell_type": "code",
   "execution_count": null,
   "metadata": {
    "scrolled": false
   },
   "outputs": [],
   "source": [
    "for tld in topLevelDirs:\n",
    "    if not rootFileExists(tld): print(tld.split('/')[-1].replace('/n',''), tld.split('/')[-2])\n"
   ]
  }
 ],
 "metadata": {
  "kernelspec": {
   "display_name": "Python 3",
   "language": "python",
   "name": "python3"
  },
  "language_info": {
   "codemirror_mode": {
    "name": "ipython",
    "version": 2
   },
   "file_extension": ".py",
   "mimetype": "text/x-python",
   "name": "python",
   "nbconvert_exporter": "python",
   "pygments_lexer": "ipython2",
   "version": "2.7.15+"
  }
 },
 "nbformat": 4,
 "nbformat_minor": 2
}
