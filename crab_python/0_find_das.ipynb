{
 "cells": [
  {
   "cell_type": "code",
   "execution_count": null,
   "metadata": {},
   "outputs": [],
   "source": [
    "import os\n",
    "import pandas as pd\n",
    "import json"
   ]
  },
  {
   "cell_type": "code",
   "execution_count": null,
   "metadata": {},
   "outputs": [],
   "source": [
    "def make_dataset_df(dataset_glob):\n",
    "    '''runs a das query and formats the crucial information as a dataframe'''\n",
    "    process = os.popen('dasgoclient -query=\"dataset={}\" --json'.format(dataset_glob))\n",
    "    preprocessed = process.read()\n",
    "    process.close()\n",
    "    json_obj = json.loads(preprocessed)\n",
    "    return pd.DataFrame([ j['dataset'][0] for j in json_obj])"
   ]
  },
  {
   "cell_type": "code",
   "execution_count": null,
   "metadata": {},
   "outputs": [],
   "source": [
    "# intial meta data to define what I am looking for\n",
    "era = 2018\n",
    "if era == 2018:\n",
    "    run = \"RunIIAutumn18NanoAODv7\"\n",
    "    tune = \"TuneCP5\"\n",
    "datatier=\"NANOAODSIM\""
   ]
  },
  {
   "cell_type": "code",
   "execution_count": null,
   "metadata": {},
   "outputs": [],
   "source": [
    "# get dataframe meeting metadata\n",
    "das_df = make_dataset_df(\"/*{}*/*{}*/{}\".format(tune, run, datatier))"
   ]
  },
  {
   "cell_type": "code",
   "execution_count": null,
   "metadata": {},
   "outputs": [],
   "source": [
    "for x in das_df:\n",
    "    print(x)"
   ]
  },
  {
   "cell_type": "code",
   "execution_count": null,
   "metadata": {},
   "outputs": [],
   "source": [
    "das_df"
   ]
  },
  {
   "cell_type": "code",
   "execution_count": null,
   "metadata": {},
   "outputs": [],
   "source": [
    "def get_das_match(re_string):\n",
    "    return das_df[das_df.name.str.match(r'{}'.format(re_string))].name.to_list()\n",
    "def print_das_match(sample_res, sample_type):\n",
    "    matching_das = get_das_match(sample_res[sample_type])\n",
    "    print(sample_type)\n",
    "    for sample_name in matching_das:\n",
    "        print(\"\\t{}\".format(sample_name))"
   ]
  },
  {
   "cell_type": "code",
   "execution_count": null,
   "metadata": {},
   "outputs": [],
   "source": [
    "sample_res = {\n",
    "    \"BFF\": '\\/BFF.+Mu.+',\n",
    "    \"ST\": '\\/ST.+',\n",
    "}"
   ]
  },
  {
   "cell_type": "code",
   "execution_count": null,
   "metadata": {},
   "outputs": [],
   "source": [
    "print_das_match(sample_res, 'ST')"
   ]
  },
  {
   "cell_type": "code",
   "execution_count": null,
   "metadata": {},
   "outputs": [],
   "source": [
    "for sample_type, sample_re in sample_res.items():\n",
    "    print_das_match(sample_res, sample_type)"
   ]
  },
  {
   "cell_type": "code",
   "execution_count": null,
   "metadata": {},
   "outputs": [],
   "source": []
  }
 ],
 "metadata": {
  "kernelspec": {
   "display_name": "Python 2",
   "language": "python",
   "name": "python2"
  },
  "language_info": {
   "codemirror_mode": {
    "name": "ipython",
    "version": 2
   },
   "file_extension": ".py",
   "mimetype": "text/x-python",
   "name": "python",
   "nbconvert_exporter": "python",
   "pygments_lexer": "ipython2",
   "version": "2.7.15+"
  }
 },
 "nbformat": 4,
 "nbformat_minor": 2
}
