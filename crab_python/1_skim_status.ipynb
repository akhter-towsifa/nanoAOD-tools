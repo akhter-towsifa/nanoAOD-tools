{
 "cells": [
  {
   "cell_type": "code",
   "execution_count": null,
   "metadata": {},
   "outputs": [],
   "source": [
    "import glob\n",
    "import re\n",
    "import pandas as pd"
   ]
  },
  {
   "cell_type": "code",
   "execution_count": null,
   "metadata": {},
   "outputs": [],
   "source": [
    "##\n",
    "## make dataframe of working areas\n",
    "##"
   ]
  },
  {
   "cell_type": "code",
   "execution_count": null,
   "metadata": {},
   "outputs": [],
   "source": [
    "work_areas = glob.glob('work_areas/crab_201*')"
   ]
  },
  {
   "cell_type": "code",
   "execution_count": null,
   "metadata": {},
   "outputs": [],
   "source": [
    "def is_data(string):\n",
    "    return 'data' in string\n",
    "def get_era(string):\n",
    "    eras = re.findall(r'(201[0-9])', string)\n",
    "    if len(eras)==1: return eras[0]\n",
    "    return 0"
   ]
  },
  {
   "cell_type": "code",
   "execution_count": null,
   "metadata": {},
   "outputs": [],
   "source": [
    "working_areas  = [{'area':w,'data': is_data(w), 'era':get_era(w)} for w in work_areas]\n",
    "working_areas_df = pd.DataFrame(working_areas)"
   ]
  },
  {
   "cell_type": "code",
   "execution_count": null,
   "metadata": {},
   "outputs": [],
   "source": [
    "##\n",
    "## test crab status\n",
    "##"
   ]
  },
  {
   "cell_type": "code",
   "execution_count": null,
   "metadata": {},
   "outputs": [],
   "source": [
    "import os"
   ]
  },
  {
   "cell_type": "code",
   "execution_count": null,
   "metadata": {},
   "outputs": [],
   "source": [
    "def crab_read(string):\n",
    "    stream = os.popen('crab status -d {}'.format(string))\n",
    "    return stream.read()\n",
    "test_string = 'work_areas/crab_2016_WJets_WJetsToQQ_HT_WJetsToQQ_HT-600ToInf_TuneCUETP8M1_13TeV-madgraphM_deepflavour_bff'"
   ]
  },
  {
   "cell_type": "code",
   "execution_count": null,
   "metadata": {},
   "outputs": [],
   "source": [
    "def get_status(string):\n",
    "    results = re.findall(r'Jobs status: [ ]+([a-zA-Z]+)', string)\n",
    "    if len(results)==1: return results[0]\n",
    "    return 0\n",
    "def job_counts(string):\n",
    "    result = re.findall(r'\\(([0-9]+)\\/([0-9]+)\\)', string)\n",
    "    if len(result)==1: return result[0]\n",
    "    return (0,0)\n",
    "def jobs_finished(string):\n",
    "    return job_counts(string)[0]\n",
    "def jobs_total(string):\n",
    "    return job_counts(string)[1]"
   ]
  },
  {
   "cell_type": "code",
   "execution_count": null,
   "metadata": {},
   "outputs": [],
   "source": [
    "def make_results(row):\n",
    "    return crab_read(row.area)"
   ]
  },
  {
   "cell_type": "code",
   "execution_count": null,
   "metadata": {},
   "outputs": [],
   "source": [
    "#get results for each row\n",
    "result_collumn = working_areas_df.apply(make_results, axis=1)"
   ]
  },
  {
   "cell_type": "code",
   "execution_count": null,
   "metadata": {},
   "outputs": [],
   "source": [
    "working_areas_df['results'] = result_collumn"
   ]
  },
  {
   "cell_type": "code",
   "execution_count": null,
   "metadata": {},
   "outputs": [],
   "source": [
    "working_areas_df['status'] = result_collumn.apply(get_status)\n",
    "working_areas_df['jobs_finished'] = result_collumn.apply(jobs_finished)\n",
    "working_areas_df['jobs_total'] = result_collumn.apply(jobs_total)"
   ]
  },
  {
   "cell_type": "code",
   "execution_count": null,
   "metadata": {},
   "outputs": [],
   "source": [
    "#print completed\n",
    "count = 0\n",
    "for i,row in working_areas_df.iterrows():\n",
    "    if row.status=='finished' and row.jobs_finished==row.jobs_total:\n",
    "        count += 1\n",
    "        print(count, row.area)"
   ]
  },
  {
   "cell_type": "code",
   "execution_count": null,
   "metadata": {
    "scrolled": false
   },
   "outputs": [],
   "source": [
    "#print not complted\n",
    "count = 0\n",
    "for i,row in working_areas_df.iterrows():\n",
    "    if not (row.status=='finished' and row.jobs_finished==row.jobs_total):\n",
    "        count += 1\n",
    "        print count, \"\\t\", row.area, \"\\t\",  row.status, \"\\t\",  row.jobs_finished, \"\\t\",  row.jobs_total "
   ]
  },
  {
   "cell_type": "code",
   "execution_count": null,
   "metadata": {},
   "outputs": [],
   "source": [
    "#print failed\n",
    "count = 0\n",
    "for i,row in working_areas_df.iterrows():\n",
    "    if (row.status=='failed'):\n",
    "        count += 1\n",
    "        print(count, row.area)"
   ]
  },
  {
   "cell_type": "code",
   "execution_count": null,
   "metadata": {},
   "outputs": [],
   "source": [
    "working_areas_df.to_csv('skim_status.csv')"
   ]
  }
 ],
 "metadata": {
  "kernelspec": {
   "display_name": "Python 2",
   "language": "python",
   "name": "python2"
  },
  "language_info": {
   "codemirror_mode": {
    "name": "ipython",
    "version": 2
   },
   "file_extension": ".py",
   "mimetype": "text/x-python",
   "name": "python",
   "nbconvert_exporter": "python",
   "pygments_lexer": "ipython2",
   "version": "2.7.15+"
  }
 },
 "nbformat": 4,
 "nbformat_minor": 2
}
