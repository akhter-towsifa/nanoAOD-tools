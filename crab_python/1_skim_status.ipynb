{
 "cells": [
  {
   "cell_type": "code",
   "execution_count": 1,
   "metadata": {},
   "outputs": [],
   "source": [
    "import glob\n",
    "import re\n",
    "import pandas as pd"
   ]
  },
  {
   "cell_type": "code",
   "execution_count": 2,
   "metadata": {},
   "outputs": [],
   "source": [
    "##\n",
    "## make dataframe of working areas\n",
    "##"
   ]
  },
  {
   "cell_type": "code",
   "execution_count": 3,
   "metadata": {},
   "outputs": [],
   "source": [
    "work_areas = glob.glob('work_areas/crab_201*')"
   ]
  },
  {
   "cell_type": "code",
   "execution_count": 4,
   "metadata": {},
   "outputs": [],
   "source": [
    "def is_data(string):\n",
    "    return 'data' in string\n",
    "def get_era(string):\n",
    "    eras = re.findall(r'(201[0-9])', string)\n",
    "    if len(eras)==1: return eras[0]\n",
    "    return 0"
   ]
  },
  {
   "cell_type": "code",
   "execution_count": 5,
   "metadata": {},
   "outputs": [],
   "source": [
    "working_areas  = [{'area':w,'data': is_data(w), 'era':get_era(w)} for w in work_areas]\n",
    "working_areas_df = pd.DataFrame(working_areas)"
   ]
  },
  {
   "cell_type": "code",
   "execution_count": 6,
   "metadata": {},
   "outputs": [],
   "source": [
    "##\n",
    "## test crab status\n",
    "##"
   ]
  },
  {
   "cell_type": "code",
   "execution_count": 7,
   "metadata": {},
   "outputs": [],
   "source": [
    "import os"
   ]
  },
  {
   "cell_type": "code",
   "execution_count": 8,
   "metadata": {},
   "outputs": [],
   "source": [
    "def crab_read(string):\n",
    "    stream = os.popen('crab status -d {}'.format(string))\n",
    "    return stream.read()\n",
    "test_string = 'work_areas/crab_2016_WJets_WJetsToQQ_HT_WJetsToQQ_HT-600ToInf_TuneCUETP8M1_13TeV-madgraphM_deepflavour_bff'"
   ]
  },
  {
   "cell_type": "code",
   "execution_count": 9,
   "metadata": {},
   "outputs": [],
   "source": [
    "def get_status(string):\n",
    "    results = re.findall(r'Jobs status: [ ]+([a-zA-Z]+)', string)\n",
    "    if len(results)==1: return results[0]\n",
    "    return 0\n",
    "def job_counts(string):\n",
    "    result = re.findall(r'\\(([0-9]+)\\/([0-9]+)\\)', string)\n",
    "    if len(result)==1: return result[0]\n",
    "    return (0,0)\n",
    "def jobs_finished(string):\n",
    "    return job_counts(string)[0]\n",
    "def jobs_total(string):\n",
    "    return job_counts(string)[1]"
   ]
  },
  {
   "cell_type": "code",
   "execution_count": 10,
   "metadata": {},
   "outputs": [],
   "source": [
    "def make_results(row):\n",
    "    return crab_read(row.area)"
   ]
  },
  {
   "cell_type": "code",
   "execution_count": 11,
   "metadata": {},
   "outputs": [],
   "source": [
    "#get results for each row\n",
    "result_collumn = working_areas_df.apply(make_results, axis=1)"
   ]
  },
  {
   "cell_type": "code",
   "execution_count": 12,
   "metadata": {},
   "outputs": [],
   "source": [
    "working_areas_df['results'] = result_collumn"
   ]
  },
  {
   "cell_type": "code",
   "execution_count": 13,
   "metadata": {},
   "outputs": [],
   "source": [
    "working_areas_df['status'] = result_collumn.apply(get_status)\n",
    "working_areas_df['jobs_finished'] = result_collumn.apply(jobs_finished)\n",
    "working_areas_df['jobs_total'] = result_collumn.apply(jobs_total)"
   ]
  },
  {
   "cell_type": "code",
   "execution_count": 14,
   "metadata": {},
   "outputs": [],
   "source": [
    "import subprocess"
   ]
  },
  {
   "cell_type": "code",
   "execution_count": 15,
   "metadata": {
    "scrolled": false
   },
   "outputs": [
    {
     "name": "stdout",
     "output_type": "stream",
     "text": [
      "1 work_areas/crab_2017_DYJets_DYJLL_M_50_nlo_DYJetsToLL_M-50_TuneCP5_1_deepflavour_bff\n",
      "2 work_areas/crab_2017_DYJets_DYJLL_M_50_mad_v2_DYJetsToLL_M-50_TuneCP5_1_deepflavour_bff\n",
      "3 work_areas/crab_2017_DYJets_DYJLL_M_100_200_DYJetsToLL_M-100to200_Tun_deepflavour_bff\n",
      "4 work_areas/crab_2017_DYJets_DYJLL_M_200_400_DYJetsToLL_M-200to400_Tun_deepflavour_bff\n",
      "5 work_areas/crab_2017_DYJets_DYJLL_M_400_500_DYJetsToLL_M-400to500_Tun_deepflavour_bff\n",
      "6 work_areas/crab_2017_DYJets_DYJLL_M_500_700_DYJetsToLL_M-500to700_Tun_deepflavour_bff\n",
      "7 work_areas/crab_2017_DYJets_DYJLL_M_800_1000_DYJetsToLL_M-800to1000_Tu_deepflavour_bff\n",
      "8 work_areas/crab_2018_DYJets_DYJLL_M_50_nlo_DYJetsToLL_M-50_TuneCP5_1_deepflavour_bff\n",
      "9 work_areas/crab_2018_DYJets_DYJLL_M_50_nlo_v2_DYJetsToLL_M-50_TuneCP5_1_deepflavour_bff\n",
      "10 work_areas/crab_2018_DYJets_DYJLL_M_50_mad_DYJetsToLL_M-50_TuneCP5_1_deepflavour_bff\n",
      "11 work_areas/crab_2018_DYJets_DYJLL_M_100_200_DYJetsToLL_M-100to200_Tun_deepflavour_bff\n",
      "12 work_areas/crab_2018_DYJets_DYJLL_M_200_400_DYJetsToLL_M-200to400_Tun_deepflavour_bff\n",
      "13 work_areas/crab_2018_DYJets_DYJLL_M_400_500_DYJetsToLL_M-400to500_Tun_deepflavour_bff\n",
      "14 work_areas/crab_2018_DYJets_DYJLL_M_500_700_DYJetsToLL_M-500to700_Tun_deepflavour_bff\n",
      "15 work_areas/crab_2018_DYJets_DYJLL_M_700_800_DYJetsToLL_M-700to800_Tun_deepflavour_bff\n",
      "16 work_areas/crab_2018_DYJets_DYJLL_M_800_1000_DYJetsToLL_M-800to1000_Tu_deepflavour_bff\n",
      "17 work_areas/crab_2017_DYJets_DYJLL_M_50_nlo_DYJetsToLL_M-50_TuneCP5_1_deepflavour_bff_eff\n",
      "18 work_areas/crab_2017_DYJets_DYJLL_M_50_mad_DYJetsToLL_M-50_TuneCP5_1_deepflavour_bff_eff\n",
      "19 work_areas/crab_2017_DYJets_DYJLL_M_100_200_DYJetsToLL_M-100to200_Tun_deepflavour_bff_eff\n",
      "20 work_areas/crab_2017_DYJets_DYJLL_M_200_400_DYJetsToLL_M-200to400_Tun_deepflavour_bff_eff\n",
      "21 work_areas/crab_2017_DYJets_DYJLL_M_400_500_DYJetsToLL_M-400to500_Tun_deepflavour_bff_eff\n",
      "22 work_areas/crab_2017_DYJets_DYJLL_M_500_700_DYJetsToLL_M-500to700_Tun_deepflavour_bff_eff\n",
      "23 work_areas/crab_2017_DYJets_DYJLL_M_700_800_DYJetsToLL_M-700to800_Tun_deepflavour_bff_eff\n",
      "24 work_areas/crab_2017_DYJets_DYJLL_M_800_1000_DYJetsToLL_M-800to1000_Tu_deepflavour_bff_eff\n",
      "25 work_areas/crab_2018_DYJets_DYJLL_M_50_nlo_DYJetsToLL_M-50_TuneCP5_1_deepflavour_bff_eff\n",
      "26 work_areas/crab_2018_DYJets_DYJLL_M_100_200_DYJetsToLL_M-100to200_Tun_deepflavour_bff_eff\n",
      "27 work_areas/crab_2018_DYJets_DYJLL_M_200_400_DYJetsToLL_M-200to400_Tun_deepflavour_bff_eff\n",
      "28 work_areas/crab_2018_DYJets_DYJLL_M_400_500_DYJetsToLL_M-400to500_Tun_deepflavour_bff_eff\n",
      "29 work_areas/crab_2018_DYJets_DYJLL_M_500_700_DYJetsToLL_M-500to700_Tun_deepflavour_bff_eff\n",
      "30 work_areas/crab_2018_DYJets_DYJLL_M_700_800_DYJetsToLL_M-700to800_Tun_deepflavour_bff_eff\n",
      "31 work_areas/crab_2018_DYJets_DYJLL_M_800_1000_DYJetsToLL_M-800to1000_Tu_deepflavour_bff_eff\n"
     ]
    }
   ],
   "source": [
    "#print completed\n",
    "delete = True\n",
    "count = 0\n",
    "for i,row in working_areas_df.iterrows():\n",
    "    if row.status=='finished' and row.jobs_finished==row.jobs_total:\n",
    "        count += 1\n",
    "        print count, row.area\n",
    "        if delete: \n",
    "            subprocess.check_output(['rm', '-rf', row.area])\n",
    "            #subprocess.check_output(['mkdir', row.area])"
   ]
  },
  {
   "cell_type": "code",
   "execution_count": 16,
   "metadata": {
    "scrolled": false
   },
   "outputs": [
    {
     "name": "stdout",
     "output_type": "stream",
     "text": [
      "1 \twork_areas/crab_2017_DYJets_DYJLL_M_50_nlo_v2_DYJetsToLL_M-50_TuneCP5_1_deepflavour_bff \tfinished \t121 \t147\n",
      "2 \twork_areas/crab_2017_DYJets_DYJLL_M_50_mad_DYJetsToLL_M-50_TuneCP5_1_deepflavour_bff \tfinished \t42 \t43\n",
      "3 \twork_areas/crab_2017_DYJets_DYJLL_M_700_800_DYJetsToLL_M-700to800_Tun_deepflavour_bff \tfailed \t14 \t16\n",
      "4 \twork_areas/crab_2017_DYJets_DYJLL_M_50_nlo_v2_DYJetsToLL_M-50_TuneCP5_1_deepflavour_bff_eff \tfinished \t145 \t147\n",
      "5 \twork_areas/crab_2017_DYJets_DYJLL_M_50_mad_v2_DYJetsToLL_M-50_TuneCP5_1_deepflavour_bff_eff \tfinished \t26 \t34\n",
      "6 \twork_areas/crab_2018_DYJets_DYJLL_M_50_nlo_v2_DYJetsToLL_M-50_TuneCP5_1_deepflavour_bff_eff \tfinished \t199 \t201\n",
      "7 \twork_areas/crab_2018_DYJets_DYJLL_M_50_mad_DYJetsToLL_M-50_TuneCP5_1_deepflavour_bff_eff \tfinished \t53 \t57\n"
     ]
    }
   ],
   "source": [
    "#print not complted\n",
    "count = 0\n",
    "for i,row in working_areas_df.iterrows():\n",
    "    if not (row.status=='finished' and row.jobs_finished==row.jobs_total):\n",
    "        count += 1\n",
    "        print count, \"\\t\", row.area, \"\\t\",  row.status, \"\\t\",  row.jobs_finished, \"\\t\",  row.jobs_total "
   ]
  },
  {
   "cell_type": "code",
   "execution_count": 17,
   "metadata": {},
   "outputs": [
    {
     "name": "stdout",
     "output_type": "stream",
     "text": [
      "(1, 'work_areas/crab_2017_DYJets_DYJLL_M_700_800_DYJetsToLL_M-700to800_Tun_deepflavour_bff')\n"
     ]
    }
   ],
   "source": [
    "#print failed\n",
    "count = 0\n",
    "for i,row in working_areas_df.iterrows():\n",
    "    if (row.status=='failed'):\n",
    "        count += 1\n",
    "        print(count, row.area)"
   ]
  },
  {
   "cell_type": "code",
   "execution_count": 18,
   "metadata": {},
   "outputs": [],
   "source": [
    "working_areas_df.to_csv('skim_status.csv')"
   ]
  },
  {
   "cell_type": "code",
   "execution_count": null,
   "metadata": {},
   "outputs": [],
   "source": []
  },
  {
   "cell_type": "code",
   "execution_count": null,
   "metadata": {},
   "outputs": [],
   "source": []
  },
  {
   "cell_type": "code",
   "execution_count": null,
   "metadata": {},
   "outputs": [],
   "source": []
  }
 ],
 "metadata": {
  "kernelspec": {
   "display_name": "Python 2",
   "language": "python",
   "name": "python2"
  },
  "language_info": {
   "codemirror_mode": {
    "name": "ipython",
    "version": 2
   },
   "file_extension": ".py",
   "mimetype": "text/x-python",
   "name": "python",
   "nbconvert_exporter": "python",
   "pygments_lexer": "ipython2",
   "version": "2.7.15+"
  }
 },
 "nbformat": 4,
 "nbformat_minor": 2
}
