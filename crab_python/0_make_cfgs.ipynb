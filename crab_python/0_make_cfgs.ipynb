{
 "cells": [
  {
   "cell_type": "code",
   "execution_count": null,
   "metadata": {},
   "outputs": [],
   "source": [
    "%load_ext autoreload\n",
    "%autoreload 2"
   ]
  },
  {
   "cell_type": "code",
   "execution_count": null,
   "metadata": {},
   "outputs": [],
   "source": [
    "import pandas as pd\n",
    "import os\n",
    "from run_nano.sample_list import sample_df\n",
    "from run_nano.crab_cfg_templates import mc_template, data_template\n",
    "from run_nano.job_template import job_mc_template, job_data_template, job_mc_local_template"
   ]
  },
  {
   "cell_type": "code",
   "execution_count": null,
   "metadata": {},
   "outputs": [],
   "source": [
    "template_meta = {\n",
    "    2016:\n",
    "    {   \"era\": 2016, \n",
    "        \"triggers\": ['HLT_Mu50','HLT_TkMu50', 'HLT_DoubleEle33_CaloIdL_MW', 'HLT_DoubleEle33_CaloIdL_GsfTrkIdVL']  ,\n",
    "        \"json\": \"Cert_271036-284044_13TeV_ReReco_07Aug2017_Collisions16_JSON.txt\"\n",
    "    },\n",
    "    2017:\n",
    "    {   \"era\": 2017, \n",
    "        \"triggers\": ['HLT_Mu50','HLT_OldMu100','HLT_TkMu100', 'HLT_DoubleEle33_CaloIdL_MW', 'HLT_DoubleEle25_CaloIdL_MW'] ,\n",
    "        \"json\": \"Cert_294927-306462_13TeV_EOY2017ReReco_Collisions17_JSON.txt\"\n",
    "    },\n",
    "    2018:\n",
    "    {   \"era\": 2018, \n",
    "        \"triggers\": ['HLT_Mu50','HLT_OldMu100','HLT_TkMu100', 'HLT_DoubleEle25_CaloIdL_MW']  ,\n",
    "        \"json\": \"Cert_314472-325175_13TeV_17SeptEarlyReReco2018ABC_PromptEraD_Collisions18_JSON.txt\"\n",
    "    }\n",
    "}"
   ]
  },
  {
   "cell_type": "code",
   "execution_count": null,
   "metadata": {},
   "outputs": [],
   "source": [
    "#set up directories for each era\n",
    "def write_file(template, meta_dict, filename):\n",
    "    '''This function makes jopy python files for each era, customizing the triggers and eras.'''\n",
    "    with open (filename, 'w') as f:\n",
    "        f.write(template.format(era=meta_dict['era'], triggers=meta_dict['triggers']))\n",
    "\n",
    "for era in [2016, 2017, 2018]:\n",
    "    #make version of the job python file in each era directory\n",
    "    #you might need to make 2016-2018 dirs\n",
    "    write_file(job_mc_template, template_meta[era], \"{}/job_mc_crab.py\".format(era))\n",
    "    write_file(job_data_template, template_meta[era], \"{}/job_data_crab.py\".format(era))\n",
    "    write_file(job_mc_local_template, template_meta[era], \"{}/job_mc_local.py\".format(era))\n",
    "    #copy other needed files. Tried soft link, but it had some weird permission issues.\n",
    "    for f in ['crab_script_data.sh', 'crab_script_mc.sh', 'keep_and_drop_bff.txt', 'PSet.py']:\n",
    "        os.system('rm {}/{}'.format(era, f))\n",
    "        os.system('cp {f} {e}/{f}'.format(f=f, e=era))"
   ]
  },
  {
   "cell_type": "code",
   "execution_count": null,
   "metadata": {
    "scrolled": false
   },
   "outputs": [],
   "source": [
    "#make custom configs for each dataset\n",
    "for i, row in sample_df.iterrows():\n",
    "    # set up data needed to fill template\n",
    "    isMC = row['mc']\n",
    "    era = row['era']\n",
    "    json = template_meta[era]['json']\n",
    "    das = row['das']\n",
    "    _, samplename, metaname, datatier = das.split('/')\n",
    "    requestName = \"{}_{}_{}_{}\".format(era, row['type'], row['name'], samplename)\n",
    "    outputName = row['name']\n",
    "    # select the right template\n",
    "    if isMC: crab_template = mc_template\n",
    "    else: crab_template = data_template\n",
    "    #formate template\n",
    "    formated_template = crab_template.format(\n",
    "        requestName=requestName,\n",
    "        outputName=outputName,\n",
    "        era=era,\n",
    "        das=das,\n",
    "        json=json\n",
    "    )\n",
    "    #write file\n",
    "    with open ('{}/{}.py'.format(era, outputName), 'w') as f:\n",
    "        f.write(formated_template)"
   ]
  },
  {
   "cell_type": "code",
   "execution_count": null,
   "metadata": {},
   "outputs": [],
   "source": []
  }
 ],
 "metadata": {
  "kernelspec": {
   "display_name": "Python 2",
   "language": "python",
   "name": "python2"
  },
  "language_info": {
   "codemirror_mode": {
    "name": "ipython",
    "version": 2
   },
   "file_extension": ".py",
   "mimetype": "text/x-python",
   "name": "python",
   "nbconvert_exporter": "python",
   "pygments_lexer": "ipython2",
   "version": "2.7.15+"
  }
 },
 "nbformat": 4,
 "nbformat_minor": 2
}
