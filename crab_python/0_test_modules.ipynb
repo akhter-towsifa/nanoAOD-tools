{
 "cells": [
  {
   "cell_type": "code",
   "execution_count": null,
   "metadata": {},
   "outputs": [],
   "source": [
    "#!/usr/bin/env python\n",
    "import os\n",
    "from PhysicsTools.NanoAODTools.postprocessing.framework.postprocessor import *\n",
    "from PhysicsTools.NanoAODTools.postprocessing.trigger.triggerFilter import triggerFilter\n",
    "\n",
    "from PhysicsTools.NanoAODTools.postprocessing.modules.common.countHistogramsModule import countHistogramsProducer\n",
    "from PhysicsTools.NanoAODTools.postprocessing.framework.crabhelper import runsAndLumis\n"
   ]
  },
  {
   "cell_type": "code",
   "execution_count": null,
   "metadata": {},
   "outputs": [],
   "source": [
    "##\n",
    "## python helper functions\n",
    "##\n",
    "\n",
    "# allows modules to be reloaded automatically without restarting kernel\n",
    "%load_ext autoreload\n",
    "%autoreload 2\n",
    "# widens cells\n",
    "from IPython.display import display, HTML\n",
    "display(HTML(\"<style>.container { width:100% !important; }</style>\"))"
   ]
  },
  {
   "cell_type": "code",
   "execution_count": null,
   "metadata": {},
   "outputs": [],
   "source": [
    "# define some parameters for running code\n",
    "isMC = True\n",
    "base_path = '/eos/cms/store/group/phys_exotica/bffZprime/private_samples/signal/2016_NanoAODv6/BFFZprimeToMuMu_M175p0_dbs_0p04_2016/'\n",
    "infile = '{}BFFZprimeToMuMu_M175p0_dbs_0p04_2016.root'.format(base_path)\n",
    "outfile = '.'\n",
    "# set maxEntries = -1 to process all events\n",
    "maxEntries = 999\n",
    "dataYear = '2016'\n",
    "runPeriod = ''\n",
    "triggers = ['HLT_Mu50', 'HLT_TkMu50', 'HLT_DoubleEle33_CaloIdL_MW', 'HLT_DoubleEle33_CaloIdL_GsfTrkIdVL', 'HLT_test']\n",
    "btagWP = 0.3093 \n",
    "btag_type = 'deepflavour'\n",
    "selector = 'bffv2'\n",
    "keep_and_drop = 'keep_and_drop_bff.txt'\n",
    "crab = False"
   ]
  },
  {
   "cell_type": "code",
   "execution_count": null,
   "metadata": {},
   "outputs": [],
   "source": [
    "#select right module\n",
    "from PhysicsTools.NanoAODTools.postprocessing.modules.common.heepV72018PromptProducer import heepV72018PromptProducer\n",
    "if isMC:\n",
    "    from PhysicsTools.NanoAODTools.postprocessing.modules.jme.jetmetHelperRun2 import createJMECorrector\n",
    "    if dataYear=='2016':\n",
    "        from PhysicsTools.NanoAODTools.postprocessing.modules.common.lepSFProducer import lepSF2016 as lepSF\n",
    "        from PhysicsTools.NanoAODTools.postprocessing.modules.common.puWeightProducer import puWeight_2016 as puWeight\n",
    "        from PhysicsTools.NanoAODTools.postprocessing.modules.btv.btagSFProducer import btagSF2016 as btagSF\n",
    "    if dataYear=='2017':\n",
    "        from PhysicsTools.NanoAODTools.postprocessing.modules.common.lepSFProducer import lepSF2017 as lepSF\n",
    "        from PhysicsTools.NanoAODTools.postprocessing.modules.common.puWeightProducer import puWeight_2017 as puWeight\n",
    "        from PhysicsTools.NanoAODTools.postprocessing.modules.btv.btagSFProducer import btagSF2017 as btagSF\n",
    "    if dataYear=='2018':\n",
    "        from PhysicsTools.NanoAODTools.postprocessing.modules.common.lepSFProducer import lepSF2018 as lepSF\n",
    "        from PhysicsTools.NanoAODTools.postprocessing.modules.common.puWeightProducer import puWeight_2018 as puWeight\n",
    "        from PhysicsTools.NanoAODTools.postprocessing.modules.btv.btagSFProducer import btagSF2018 as btagSF\n",
    "if dataYear=='2016':\n",
    "    from PhysicsTools.NanoAODTools.postprocessing.modules.common.muonScaleResProducer import muonScaleRes2016 as muonScaleRes\n",
    "if dataYear=='2017':\n",
    "    from PhysicsTools.NanoAODTools.postprocessing.modules.common.muonScaleResProducer import muonScaleRes2017 as muonScaleRes\n",
    "if dataYear=='2018':\n",
    "    from PhysicsTools.NanoAODTools.postprocessing.modules.common.muonScaleResProducer import muonScaleRes2018 as muonScaleRes\n",
    "\n",
    "#from PhysicsTools.NanoAODTools.postprocessing.modules.bff.WeightsProducer import WeightsProducer\n",
    "    \n",
    "#different preselection producerts\n",
    "if selector=='inclusive':\n",
    "    from PhysicsTools.NanoAODTools.postprocessing.bff.bffInclusive_preselectionModule import bffInclusivePreselProducer as preselectorProducer\n",
    "if selector=='bff':\n",
    "    from PhysicsTools.NanoAODTools.postprocessing.bff.bffPreselModule import bffPreselProducer as preselectorProducer\n",
    "if selector=='bffv2':\n",
    "    from PhysicsTools.NanoAODTools.postprocessing.bff.bffPreselModuleV2 import bffPreselProducer as preselectorProducer\n",
    "if selector=='bff_eff':\n",
    "    from PhysicsTools.NanoAODTools.postprocessing.bff.bffBtagEff import bffBtagEffProducer as preselectorProducer    \n",
    "if selector=='minseok':\n",
    "    from PhysicsTools.NanoAODTools.postprocessing.bff.bffPreselModule_minseok import bffPreselProducer as preselectorProducer\n",
    "\n",
    "#prepare file if glob\n",
    "if not crab:\n",
    "    print(\"using input file\", infile)\n",
    "    import glob\n",
    "    infile = glob.glob(infile)\n",
    "else:\n",
    "    from PhysicsTools.NanoAODTools.postprocessing.framework.crabhelper import inputFiles\n",
    "    print(\"get input file (crab)\")\n",
    "    infile = inputFiles()\n",
    "print(\"infile\", infile)\n",
    "#2017 EE fix\n",
    "#set post fix for mc to be T1Smear\n",
    "metBranchPostFix = '_T1'\n",
    "if isMC:\n",
    "    metBranchPostFix = '_T1Smear'\n",
    "conditions_dict = {\n",
    "    '2016':{'metBranchName':'MET', 'heepBranchName': 'cutBased_HEEP', 'metBranchPostFix': metBranchPostFix},\n",
    "    '2017':{'metBranchName':'METFixEE2017', 'heepBranchName': 'cutBased_HEEP', 'metBranchPostFix': metBranchPostFix},\n",
    "    '2018':{'metBranchName':'MET', 'heepBranchName': 'cutBased_HEEPV7p0_2018Prompt', 'metBranchPostFix': metBranchPostFix}\n",
    "}\n",
    "\n",
    "\n"
   ]
  },
  {
   "cell_type": "code",
   "execution_count": null,
   "metadata": {
    "scrolled": true
   },
   "outputs": [],
   "source": [
    "#set up process for mc and data\n",
    "if isMC:\n",
    "    applyHEMfix=True\n",
    "    jmeCorrections = createJMECorrector(\n",
    "            isMC=isMC,\n",
    "            dataYear=dataYear,\n",
    "            runPeriod=runPeriod,\n",
    "            jesUncert=\"Total\",\n",
    "            metBranchName=conditions_dict[dataYear]['metBranchName'],\n",
    "            applySmearing=True,\n",
    "            jetType=\"AK4PFchs\",\n",
    "            noGroom=False,\n",
    "            applyHEMfix=applyHEMfix,\n",
    "        )\n",
    "    \n",
    "    #don't use all modules for bff efficency calculation\n",
    "    if 'eff' not in selector:\n",
    "        modules=[\n",
    "                countHistogramsProducer(),\n",
    "                triggerFilter(triggers),\n",
    "                btagSF(),\n",
    "                jmeCorrections(),\n",
    "                puWeight(),\n",
    "                muonScaleRes(),\n",
    "                lepSF(),\n",
    "                heepV72018PromptProducer(),\n",
    "                preselectorProducer(btagWP, triggers, isMC=isMC, btag_type=btag_type, record_dataframe=True, applyHEMfix=applyHEMfix, **conditions_dict[dataYear])       \n",
    "        ]\n",
    "        \n",
    "        if selector=='bffv2':\n",
    "            modules.append(preselectorProducer(btagWP, triggers, isMC=isMC, applyHEMfix=applyHEMfix, muon_pt = \"correctedUp_pt\", **conditions_dict[dataYear]))\n",
    "            modules.append(preselectorProducer(btagWP, triggers, isMC=isMC, applyHEMfix=applyHEMfix, muon_pt = \"correctedDown_pt\", **conditions_dict[dataYear]))\n",
    "            modules.append(preselectorProducer(btagWP, triggers, isMC=isMC, applyHEMfix=applyHEMfix, jet_sys = \"jerDown\", **conditions_dict[dataYear]))\n",
    "            modules.append(preselectorProducer(btagWP, triggers, isMC=isMC, applyHEMfix=applyHEMfix, jet_sys = \"jerUp\", **conditions_dict[dataYear]))\n",
    "            modules.append(preselectorProducer(btagWP, triggers, isMC=isMC, applyHEMfix=applyHEMfix, jet_sys = \"jesTotalDown\", **conditions_dict[dataYear]))\n",
    "            modules.append(preselectorProducer(btagWP, triggers, isMC=isMC, applyHEMfix=applyHEMfix, jet_sys = \"jesTotalUp\", **conditions_dict[dataYear]))\n",
    "            if applyHEMfix:\n",
    "                    modules.append(preselectorProducer(btagWP, triggers, isMC=isMC, applyHEMfix=applyHEMfix, jet_sys = \"jesHEMIssueDown\", **conditions_dict[dataYear]))\n",
    "                    modules.append(preselectorProducer(btagWP, triggers, isMC=isMC, applyHEMfix=applyHEMfix, jet_sys = \"jesHEMIssueUp\", **conditions_dict[dataYear]))\n",
    "    else:\n",
    "            modules=[\n",
    "                btagSF(dataYear, algo=btag_type),\n",
    "                jmeCorrections(),\n",
    "                preselectorProducer(btagWP, triggers, isMC=isMC, btag_type=btag_type, record_dataframe=True, **conditions_dict[dataYear])\n",
    "            ]\n",
    "    p = PostProcessor(outfile,\n",
    "            infile,\n",
    "            modules=modules,\n",
    "            provenance=True,\n",
    "            fwkJobReport=True,\n",
    "            outputbranchsel=keep_and_drop,\n",
    "            maxEntries=maxEntries\n",
    "        )\n",
    "else:\n",
    "    conditions_dict[dataYear]['metBranchPostFix'] = ''\n",
    "    modules=[\n",
    "            countHistogramsProducer(),\n",
    "            triggerFilter(triggers),\n",
    "            muonScaleRes(),\n",
    "            heepV72018PromptProducer(),\n",
    "            preselectorProducer(btagWP, triggers, isMC=isMC, btag_type=btag_type, record_dataframe=True, muon_pt = \"pt\", **conditions_dict[dataYear])\n",
    "        ]\n",
    "\n",
    "    p = PostProcessor(outfile,\n",
    "            infile,\n",
    "            modules=modules,\n",
    "            provenance=True,\n",
    "            fwkJobReport=True,\n",
    "            outputbranchsel=keep_and_drop,\n",
    "            jsonInput=runsAndLumis(),\n",
    "            maxEntries=maxEntries\n",
    "        )\n",
    "\n",
    "modules"
   ]
  },
  {
   "cell_type": "code",
   "execution_count": null,
   "metadata": {},
   "outputs": [],
   "source": [
    "import time\n",
    "seconds = time.time()\n",
    "local_time = time.ctime(seconds)\n",
    "print(\"Local time:\", local_time)"
   ]
  },
  {
   "cell_type": "code",
   "execution_count": null,
   "metadata": {},
   "outputs": [],
   "source": [
    "infile"
   ]
  },
  {
   "cell_type": "code",
   "execution_count": null,
   "metadata": {
    "scrolled": true
   },
   "outputs": [],
   "source": [
    "p.run()"
   ]
  },
  {
   "cell_type": "code",
   "execution_count": null,
   "metadata": {},
   "outputs": [],
   "source": [
    "import uproot as upr"
   ]
  },
  {
   "cell_type": "code",
   "execution_count": null,
   "metadata": {},
   "outputs": [],
   "source": [
    "upf = upr.open('BFFZprimeToMuMu_M175p0_dbs_0p04_2016_Skim.root')['Events']"
   ]
  },
  {
   "cell_type": "code",
   "execution_count": null,
   "metadata": {
    "scrolled": true
   },
   "outputs": [],
   "source": [
    "upf.arrays([x for x in upf.keys() if 'SR1' in x], library='pd').mean(axis=0)"
   ]
  },
  {
   "cell_type": "code",
   "execution_count": null,
   "metadata": {},
   "outputs": [],
   "source": [
    "df = upf.arrays(['Muon_effSF_trigger',\n",
    "           'Muon_effSF_sys_triggerUp',\n",
    "           'Muon_effSF_sys_triggerDown', 'SR1_jet_nom_muon_corrected_pt_ele_pt',\n",
    "                'SR2_jet_nom_muon_corrected_pt_ele_pt'], library='pd')"
   ]
  },
  {
   "cell_type": "code",
   "execution_count": null,
   "metadata": {
    "scrolled": true
   },
   "outputs": [],
   "source": [
    "df.mean()"
   ]
  },
  {
   "cell_type": "code",
   "execution_count": null,
   "metadata": {},
   "outputs": [],
   "source": [
    "upf.arrays(['SR2_jet_nom_muon_corrected_pt_ele_pt'], library='pd').sum()"
   ]
  },
  {
   "cell_type": "code",
   "execution_count": null,
   "metadata": {},
   "outputs": [],
   "source": [
    "df[df.SR1_jet_nom_muon_corrected_pt_ele_pt==1].max(), df[df.SR2_jet_nom_muon_corrected_pt_ele_pt==1].max()"
   ]
  },
  {
   "cell_type": "code",
   "execution_count": null,
   "metadata": {},
   "outputs": [],
   "source": [
    "df[df.SR1_jet_nom_muon_corrected_pt_ele_pt==1].min(), df[df.SR2_jet_nom_muon_corrected_pt_ele_pt==1].min()"
   ]
  },
  {
   "cell_type": "code",
   "execution_count": null,
   "metadata": {},
   "outputs": [],
   "source": [
    "upf.arrays([ 'Muon_effSF_trigger',\n",
    " 'Muon_effSF_stat_trigger',\n",
    " 'Muon_effSF_ID',\n",
    " 'Muon_effSF_stat_ID',\n",
    " 'Muon_effSF_ISO',\n",
    " 'Muon_effSF_stat_ISO',\n",
    " 'Muon_effSF_sys_triggerUp',\n",
    " 'Muon_effSF_sys_triggerDown',\n",
    " 'Muon_effSF_sys_ID',\n",
    " 'Muon_effSF_sys_ISO',], library='pd').mean()"
   ]
  },
  {
   "cell_type": "code",
   "execution_count": null,
   "metadata": {},
   "outputs": [],
   "source": [
    "upf.arrays([ 'Muon_effSF_trigger',\n",
    " 'Muon_effSF_stat_trigger',\n",
    " 'Muon_effSF_ID',\n",
    " 'Muon_effSF_stat_ID',\n",
    " 'Muon_effSF_ISO',\n",
    " 'Muon_effSF_stat_ISO',\n",
    " 'Muon_effSF_sys_triggerUp',\n",
    " 'Muon_effSF_sys_triggerDown',\n",
    " 'Muon_effSF_sys_ID',\n",
    " 'Muon_effSF_sys_ISO',], library='pd').max()*100"
   ]
  },
  {
   "cell_type": "code",
   "execution_count": null,
   "metadata": {},
   "outputs": [],
   "source": [
    "[x for x in upf.keys() if 'SR1' in x]"
   ]
  },
  {
   "cell_type": "code",
   "execution_count": null,
   "metadata": {},
   "outputs": [],
   "source": [
    "file_sf = \"../python/postprocessing/data/leptonSF/muon_legacy/OutFile-v20190510-Combined-Run2016BtoH_Run2017BtoF_Run2018AtoD-M120to10000.root\""
   ]
  },
  {
   "cell_type": "code",
   "execution_count": null,
   "metadata": {},
   "outputs": [],
   "source": [
    "upf2 = upr.open(file_sf)"
   ]
  },
  {
   "cell_type": "code",
   "execution_count": null,
   "metadata": {},
   "outputs": [],
   "source": [
    "upf2.keys()"
   ]
  },
  {
   "cell_type": "code",
   "execution_count": null,
   "metadata": {},
   "outputs": [],
   "source": [
    "import ROOT as r\n",
    "import root_numpy\n",
    "import numpy as np"
   ]
  },
  {
   "cell_type": "code",
   "execution_count": null,
   "metadata": {},
   "outputs": [],
   "source": [
    "tf = r.TFile(file_sf)"
   ]
  },
  {
   "cell_type": "code",
   "execution_count": null,
   "metadata": {},
   "outputs": [],
   "source": [
    "list(tf.GetListOfKeys())"
   ]
  },
  {
   "cell_type": "code",
   "execution_count": null,
   "metadata": {},
   "outputs": [],
   "source": [
    "c1 = r.TCanvas()"
   ]
  },
  {
   "cell_type": "code",
   "execution_count": null,
   "metadata": {},
   "outputs": [],
   "source": [
    "def average(*x):\n",
    "    return sum(x)/len(x)\n",
    "\n",
    "def reduce_list_by_pair(arr,func = average):\n",
    "    return np.array([func(arr[i], arr[i+1]) for i in range(len(arr)-1)])"
   ]
  },
  {
   "cell_type": "code",
   "execution_count": null,
   "metadata": {},
   "outputs": [],
   "source": [
    "th2f = tf.Get('SF_2016_errorUpper')\n",
    "th2f.Draw('Colz')\n",
    "c1.Draw()\n",
    "\n",
    "array, axis = root_numpy.hist2array(th2f, return_edges=True)\n",
    "array[reduce_list_by_pair(axis[0], func=max)>53]"
   ]
  },
  {
   "cell_type": "code",
   "execution_count": null,
   "metadata": {},
   "outputs": [],
   "source": [
    "array"
   ]
  },
  {
   "cell_type": "code",
   "execution_count": null,
   "metadata": {},
   "outputs": [],
   "source": [
    "th2f = tf.Get('SF_2016_errorUpper')\n",
    "th2f.Draw('Colz')\n",
    "c1.Draw()\n",
    "\n",
    "array, axis = root_numpy.hist2array(th2f, return_edges=True)\n",
    "array[reduce_list_by_pair(axis[0], func=max)>53]*100"
   ]
  },
  {
   "cell_type": "code",
   "execution_count": null,
   "metadata": {},
   "outputs": [],
   "source": []
  }
 ],
 "metadata": {
  "kernelspec": {
   "display_name": "Python 2",
   "language": "python",
   "name": "python2"
  },
  "language_info": {
   "codemirror_mode": {
    "name": "ipython",
    "version": 2
   },
   "file_extension": ".py",
   "mimetype": "text/x-python",
   "name": "python",
   "nbconvert_exporter": "python",
   "pygments_lexer": "ipython2",
   "version": "2.7.15+"
  }
 },
 "nbformat": 4,
 "nbformat_minor": 2
}
