{
 "cells": [
  {
   "cell_type": "code",
   "execution_count": null,
   "metadata": {
    "scrolled": true
   },
   "outputs": [],
   "source": [
    "#!/usr/bin/env python\n",
    "import os\n",
    "from PhysicsTools.NanoAODTools.postprocessing.framework.postprocessor import *\n",
    "from PhysicsTools.NanoAODTools.postprocessing.trigger.triggerFilter import triggerFilter\n",
    "\n",
    "from PhysicsTools.NanoAODTools.postprocessing.modules.common.countHistogramsModule import countHistogramsProducer\n",
    "from PhysicsTools.NanoAODTools.postprocessing.framework.crabhelper import runsAndLumis\n"
   ]
  },
  {
   "cell_type": "code",
   "execution_count": null,
   "metadata": {},
   "outputs": [],
   "source": [
    "##\n",
    "## python helper functions\n",
    "##\n",
    "\n",
    "# allows modules to be reloaded automatically without restarting kernel\n",
    "%load_ext autoreload\n",
    "%autoreload 2\n",
    "# widens cells\n",
    "from IPython.display import display, HTML\n",
    "display(HTML(\"<style>.container { width:100% !important; }</style>\"))"
   ]
  },
  {
   "cell_type": "code",
   "execution_count": null,
   "metadata": {},
   "outputs": [],
   "source": [
    "# define some parameters for running code\n",
    "isMC = True\n",
    "base_path = '/eos/cms/store/group/phys_exotica/bffZprime/sample_files/'\n",
    "infile = '{}BFFZprimeToMuMu_M_200_dbs0p5_TuneCUETP8M1_13TeV-madgraph-pythia8_16.root'.format(base_path)\n",
    "outfile = '.'\n",
    "# set maxEntries = -1 to process all events\n",
    "maxEntries = 10000\n",
    "dataYear = '2016'\n",
    "runPeriod = ''\n",
    "triggers = ['HLT_Mu50', 'HLT_TkMu50', 'HLT_DoubleEle33_CaloIdL_MW', 'HLT_DoubleEle33_CaloIdL_GsfTrkIdVL']\n",
    "btagWP = 0.3093 \n",
    "btag_type = 'deepflavour'\n",
    "selector = 'bff'\n",
    "keep_and_drop = 'keep_and_drop_bff.txt'\n",
    "crab = False"
   ]
  },
  {
   "cell_type": "code",
   "execution_count": null,
   "metadata": {},
   "outputs": [],
   "source": [
    "#select right module\n",
    "from PhysicsTools.NanoAODTools.postprocessing.modules.common.heepV72018PromptProducer import heepV72018PromptProducer\n",
    "if isMC:\n",
    "    from PhysicsTools.NanoAODTools.postprocessing.modules.btv.btagSFProducer import btagSF\n",
    "    from PhysicsTools.NanoAODTools.postprocessing.modules.jme.jetmetHelperRun2 import createJMECorrector\n",
    "    if dataYear=='2016':\n",
    "        from PhysicsTools.NanoAODTools.postprocessing.modules.common.lepSFProducer import lepSF2016 as lepSF\n",
    "        from PhysicsTools.NanoAODTools.postprocessing.modules.common.puWeightProducer import puWeight_2016 as puWeight\n",
    "    if dataYear=='2017':\n",
    "        from PhysicsTools.NanoAODTools.postprocessing.modules.common.lepSFProducer import lepSF2017 as lepSF\n",
    "        from PhysicsTools.NanoAODTools.postprocessing.modules.common.puWeightProducer import puWeight_2017 as puWeight\n",
    "    if dataYear=='2018':\n",
    "        from PhysicsTools.NanoAODTools.postprocessing.modules.common.lepSFProducer import lepSF2018 as lepSF\n",
    "        from PhysicsTools.NanoAODTools.postprocessing.modules.common.puWeightProducer import puWeight_2018 as puWeight\n",
    "if dataYear=='2016':\n",
    "    from PhysicsTools.NanoAODTools.postprocessing.modules.common.muonScaleResProducer import muonScaleRes2016 as muonScaleRes\n",
    "if dataYear=='2017':\n",
    "    from PhysicsTools.NanoAODTools.postprocessing.modules.common.muonScaleResProducer import muonScaleRes2017 as muonScaleRes\n",
    "if dataYear=='2018':\n",
    "    from PhysicsTools.NanoAODTools.postprocessing.modules.common.muonScaleResProducer import muonScaleRes2018 as muonScaleRes\n",
    "\n",
    "#different preselection producerts\n",
    "if selector=='inclusive':\n",
    "    from PhysicsTools.NanoAODTools.postprocessing.bff.bffInclusive_preselectionModule import bffInclusivePreselProducer as preselectorProducer\n",
    "if selector=='bff':\n",
    "    from PhysicsTools.NanoAODTools.postprocessing.bff.bffPreselModule import bffPreselProducer as preselectorProducer\n",
    "if selector=='bff_eff':\n",
    "    from PhysicsTools.NanoAODTools.postprocessing.bff.bffBtagEff import bffBtagEffProducer as preselectorProducer    \n",
    "if selector=='minseok':\n",
    "    from PhysicsTools.NanoAODTools.postprocessing.bff.bffPreselModule_minseok import bffPreselProducer as preselectorProducer\n",
    "\n",
    "#prepare file if glob\n",
    "if not crab:\n",
    "    print(\"using input file\", infile)\n",
    "    import glob\n",
    "    infile = glob.glob(infile)\n",
    "else:\n",
    "    from PhysicsTools.NanoAODTools.postprocessing.framework.crabhelper import inputFiles\n",
    "    print(\"get input file (crab)\")\n",
    "    infile = inputFiles()\n",
    "print(\"infile\", infile)\n",
    "#2017 EE fix\n",
    "conditions_dict = {\n",
    "    '2016':{'metBranchName':'MET', 'heepBranchName': 'cutBased_HEEP'},\n",
    "    '2017':{'metBranchName':'METFixEE2017', 'heepBranchName': 'cutBased_HEEP'},\n",
    "    '2018':{'metBranchName':'MET', 'heepBranchName': 'cutBased_HEEPV7p0_2018Prompt'}\n",
    "}\n"
   ]
  },
  {
   "cell_type": "code",
   "execution_count": null,
   "metadata": {
    "scrolled": true
   },
   "outputs": [],
   "source": [
    "#set up process for mc and data\n",
    "if isMC:\n",
    "    applyHEMfix=True\n",
    "    jmeCorrections = createJMECorrector(\n",
    "            isMC=isMC,\n",
    "            dataYear=dataYear,\n",
    "            runPeriod=runPeriod,\n",
    "            jesUncert=\"Total\",\n",
    "            metBranchName=conditions_dict[dataYear]['metBranchName'],\n",
    "            applySmearing=True,\n",
    "            jetType=\"AK4PFchs\",\n",
    "            noGroom=False,\n",
    "            applyHEMfix=applyHEMfix,\n",
    "        )\n",
    "    \n",
    "    #don't use all modules for bff efficency calculation\n",
    "    if 'eff' not in selector:\n",
    "        modules=[\n",
    "                countHistogramsProducer(),\n",
    "                triggerFilter(triggers),\n",
    "                btagSF(dataYear, algo=btag_type),\n",
    "                jmeCorrections(),\n",
    "                puWeight(),\n",
    "                muonScaleRes(),\n",
    "                lepSF(),\n",
    "                heepV72018PromptProducer(),\n",
    "                preselectorProducer(btagWP, triggers, isMC=isMC, btag_type=btag_type, record_dataframe=True, applyHEMfix=applyHEMfix, **conditions_dict[dataYear])\n",
    "            ]\n",
    "    else:\n",
    "            modules=[\n",
    "                btagSF(dataYear, algo=btag_type),\n",
    "                jmeCorrections(),\n",
    "                preselectorProducer(btagWP, triggers, isMC=isMC, btag_type=btag_type, record_dataframe=True, **conditions_dict[dataYear])\n",
    "            ]\n",
    "    p = PostProcessor(outfile,\n",
    "            infile,\n",
    "            modules=modules,\n",
    "            provenance=True,\n",
    "            fwkJobReport=True,\n",
    "            outputbranchsel=keep_and_drop,\n",
    "            maxEntries=maxEntries\n",
    "        )\n",
    "else:\n",
    "    modules=[\n",
    "            countHistogramsProducer(),\n",
    "            triggerFilter(triggers),\n",
    "            muonScaleRes(),\n",
    "            heepV72018PromptProducer(),\n",
    "            preselectorProducer(btagWP, triggers, isMC=isMC, btag_type=btag_type, record_dataframe=True, **conditions_dict[dataYear])\n",
    "        ]\n",
    "\n",
    "    p = PostProcessor(outfile,\n",
    "            infile,\n",
    "            modules=modules,\n",
    "            provenance=True,\n",
    "            fwkJobReport=True,\n",
    "            outputbranchsel=keep_and_drop,\n",
    "            jsonInput=runsAndLumis(),\n",
    "            maxEntries=maxEntries\n",
    "        )\n",
    "\n",
    "modules"
   ]
  },
  {
   "cell_type": "code",
   "execution_count": null,
   "metadata": {
    "scrolled": false
   },
   "outputs": [],
   "source": [
    "p.run()"
   ]
  },
  {
   "cell_type": "code",
   "execution_count": null,
   "metadata": {},
   "outputs": [],
   "source": [
    "import uproot as upr"
   ]
  },
  {
   "cell_type": "code",
   "execution_count": null,
   "metadata": {},
   "outputs": [],
   "source": [
    "upf = upr.open('BFFZprimeToMuMu_M_200_dbs0p5_TuneCUETP8M1_13TeV-madgraph-pythia8_16_Skim.root')['Events']"
   ]
  },
  {
   "cell_type": "code",
   "execution_count": null,
   "metadata": {},
   "outputs": [],
   "source": [
    "df = upf.arrays(['Jet_pt_jesHEMIssueDown', 'Jet_pt_jesTotalDown', 'Jet_pt_nom', 'RelMET_nom', 'RelMET_jesHEMIssueDown' ,'SR1_nom', 'SR1_jesHEMIssueDown'], library='pd')"
   ]
  },
  {
   "cell_type": "code",
   "execution_count": null,
   "metadata": {},
   "outputs": [],
   "source": [
    "import numpy as np\n",
    "import matplotlib.pyplot as plt"
   ]
  },
  {
   "cell_type": "code",
   "execution_count": null,
   "metadata": {},
   "outputs": [],
   "source": [
    "df[(df.SR1_nom!=df.SR1_jesHEMIssueDown) ]"
   ]
  },
  {
   "cell_type": "code",
   "execution_count": null,
   "metadata": {},
   "outputs": [],
   "source": [
    "def get_keys(key):\n",
    "    return [x for x in upf.keys() if key in x]"
   ]
  },
  {
   "cell_type": "code",
   "execution_count": null,
   "metadata": {},
   "outputs": [],
   "source": [
    "df = upf.arrays(['HTLT_nom', 'HTLT_jesHEMIssueDown', 'SR1_nom', 'SR1_jesHEMIssueDown', 'SR1_jesTotalDown', 'Jet_pt_jesTotalDown', 'Jet_pt_jesHEMIssueDown', 'Jet_pt_nom'], library='pd')"
   ]
  },
  {
   "cell_type": "code",
   "execution_count": null,
   "metadata": {},
   "outputs": [],
   "source": [
    "df[(df.SR1_nom!=df.SR1_jesTotalDown)]"
   ]
  },
  {
   "cell_type": "code",
   "execution_count": null,
   "metadata": {},
   "outputs": [],
   "source": [
    "get_keys('HEM')"
   ]
  },
  {
   "cell_type": "code",
   "execution_count": null,
   "metadata": {},
   "outputs": [],
   "source": []
  }
 ],
 "metadata": {
  "kernelspec": {
   "display_name": "Python 2",
   "language": "python",
   "name": "python2"
  },
  "language_info": {
   "codemirror_mode": {
    "name": "ipython",
    "version": 2
   },
   "file_extension": ".py",
   "mimetype": "text/x-python",
   "name": "python",
   "nbconvert_exporter": "python",
   "pygments_lexer": "ipython2",
   "version": "2.7.15+"
  }
 },
 "nbformat": 4,
 "nbformat_minor": 2
}
