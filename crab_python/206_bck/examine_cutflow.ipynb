{
 "cells": [
  {
   "cell_type": "code",
   "execution_count": null,
   "metadata": {},
   "outputs": [],
   "source": [
    "import uproot\n",
    "import matplotlib.pyplot as plt\n",
    "import numpy as np\n",
    "import glob"
   ]
  },
  {
   "cell_type": "code",
   "execution_count": 70,
   "metadata": {},
   "outputs": [],
   "source": [
    "samples = {\n",
    "    \"bff (200GeV)\": \"test_cutflow_bff/*.root\",\n",
    "    \"tt\": \"test_cutflow_tt/*.root\",\n",
    "    \"dy(50_120)\": \"test_cutflow_dy/*.root\",\n",
    "    \"dy(400_800)\": \"test_cutflow_dy_400_800/*.root\"\n",
    "}"
   ]
  },
  {
   "cell_type": "code",
   "execution_count": 71,
   "metadata": {},
   "outputs": [],
   "source": [
    "def get_numpy_cutflow(_upf):\n",
    "    return  _upf['cutflow_weighted'].values()\n",
    "\n",
    "def get_values(file_glob, normalize=False, zero_value=-1):\n",
    "    files = glob.glob(file_glob)\n",
    "    for i, root_file in enumerate(files):\n",
    "        _upf = uproot.open(root_file)\n",
    "        if i == 0:\n",
    "            cutflow = get_numpy_cutflow(_upf)\n",
    "        else:\n",
    "            cutflow += get_numpy_cutflow(_upf)\n",
    "    if zero_value > 0: cutflow[0] = zero_value\n",
    "    return cutflow\n",
    "\n",
    "def make_value_dict(sample_dict):\n",
    "    return {k: get_values(v, zero_value=1000) for k,v in sample_dict.items()}"
   ]
  },
  {
   "cell_type": "code",
   "execution_count": 72,
   "metadata": {
    "scrolled": false
   },
   "outputs": [],
   "source": [
    "value_dict = make_value_dict(samples)"
   ]
  },
  {
   "cell_type": "code",
   "execution_count": 76,
   "metadata": {},
   "outputs": [],
   "source": [
    "def plot_cutflow(ax, values, normalize=False, offset=0, **kwargs):\n",
    "    cut_names = ['All Events', 'After HLT', 'After N Leptons', 'After N Jets']\n",
    "    x = np.arange(len(cut_names))\n",
    "    if normalize: values = values/values[0]\n",
    "    ax.bar(x+offset, values, **kwargs)\n",
    "    ax.set_xticks(x)\n",
    "    ax.set_xticklabels(cut_names)"
   ]
  },
  {
   "cell_type": "code",
   "execution_count": 78,
   "metadata": {},
   "outputs": [
    {
     "name": "stdout",
     "output_type": "stream",
     "text": [
      "tt:[1000.  280.   42.   22.]\n",
      "dy(50_120):[1000.  147.    5.    4.]\n",
      "dy(400_800):[1000.  946.  612.  211.]\n",
      "bff (200GeV):[1000.  827.  533.  214.]\n"
     ]
    },
    {
     "data": {
      "image/png": "[encoded data removed]",
      "text/plain": [
       "<Figure size 720x720 with 1 Axes>"
      ]
     },
     "metadata": {
      "needs_background": "light"
     },
     "output_type": "display_data"
    }
   ],
   "source": [
    "fig, ax = plt.subplots(figsize=(10,10))\n",
    "n_plots = len(value_dict)\n",
    "for i, (k,v) in enumerate(value_dict.items()):\n",
    "    #add boundary between each bin in cutflow\n",
    "    boundary=.1\n",
    "    width = (1.0-boundary)/n_plots\n",
    "    offset = float(i)/n_plots*(1.0-boundary)\n",
    "    plot_cutflow(ax, v, offset=offset, width = width, label=k)\n",
    "    print(\"{}:{}\".format(k, v))\n",
    "ax.legend()\n",
    "#ax.set_yscale('log')\n",
    "fig.savefig(\"cutflow.png\", facecolor='white')"
   ]
  },
  {
   "cell_type": "code",
   "execution_count": 80,
   "metadata": {},
   "outputs": [],
   "source": [
    "upf = uproot.open(\"test_cutflow_tt/4A5B7C8A-4B39-8245-BB10-472F0DC5679D_Skim.root\")"
   ]
  },
  {
   "cell_type": "code",
   "execution_count": null,
   "metadata": {},
   "outputs": [],
   "source": [
    "up"
   ]
  }
 ],
 "metadata": {
  "kernelspec": {
   "display_name": "Python 3",
   "language": "python",
   "name": "python3"
  },
  "language_info": {
   "codemirror_mode": {
    "name": "ipython",
    "version": 2
   },
   "file_extension": ".py",
   "mimetype": "text/x-python",
   "name": "python",
   "nbconvert_exporter": "python",
   "pygments_lexer": "ipython2",
   "version": "2.7.15+"
  }
 },
 "nbformat": 4,
 "nbformat_minor": 2
}
