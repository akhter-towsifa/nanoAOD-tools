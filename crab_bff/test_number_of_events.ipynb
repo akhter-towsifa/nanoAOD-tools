{
 "cells": [
  {
   "cell_type": "code",
   "execution_count": 3,
   "metadata": {},
   "outputs": [],
   "source": [
    "import uproot\n",
    "import numpy\n",
    "import glob"
   ]
  },
  {
   "cell_type": "code",
   "execution_count": 41,
   "metadata": {},
   "outputs": [],
   "source": [
    "path='/eos/cms/store/group/phys_exotica/bffZprime/nanoAODskimmed/private/2017_lpc'"
   ]
  },
  {
   "cell_type": "code",
   "execution_count": 42,
   "metadata": {},
   "outputs": [],
   "source": [
    "files = glob.glob(\"{}/*/*.root\".format(path))"
   ]
  },
  {
   "cell_type": "code",
   "execution_count": 43,
   "metadata": {},
   "outputs": [],
   "source": [
    "def get_nevts(filename):\n",
    "    up_file = uproot.open(filename)\n",
    "    return up_file['nEvents'].to_numpy()[0][0]"
   ]
  },
  {
   "cell_type": "code",
   "execution_count": 44,
   "metadata": {},
   "outputs": [
    {
     "data": {
      "text/plain": [
       "[536190.0,\n",
       " 459534.0,\n",
       " 376118.0,\n",
       " 390330.0,\n",
       " 327541.0,\n",
       " 355691.0,\n",
       " 371096.0,\n",
       " 415750.0,\n",
       " 338724.0,\n",
       " 325251.0]"
      ]
     },
     "execution_count": 44,
     "metadata": {},
     "output_type": "execute_result"
    }
   ],
   "source": [
    "list(map(get_nevts, files))"
   ]
  },
  {
   "cell_type": "code",
   "execution_count": 45,
   "metadata": {
    "scrolled": true
   },
   "outputs": [
    {
     "data": {
      "text/plain": [
       "['/eos/cms/store/group/phys_exotica/bffZprime/nanoAODskimmed/private/2017_lpc/BFFZprimeToMuMu_M125p0_dbs_0p5_2017/BFFZprimeToMuMu_M125p0_dbs_0p5_2017_Skim.root',\n",
       " '/eos/cms/store/group/phys_exotica/bffZprime/nanoAODskimmed/private/2017_lpc/BFFZprimeToMuMu_M150p0_dbs_0p04_2017/BFFZprimeToMuMu_M150p0_dbs_0p04_2017_Skim.root',\n",
       " '/eos/cms/store/group/phys_exotica/bffZprime/nanoAODskimmed/private/2017_lpc/BFFZprimeToMuMu_M150p0_dbs_0p5_2017/BFFZprimeToMuMu_M150p0_dbs_0p5_2017_Skim.root',\n",
       " '/eos/cms/store/group/phys_exotica/bffZprime/nanoAODskimmed/private/2017_lpc/BFFZprimeToMuMu_M150p0_dbs_1p0_2017/BFFZprimeToMuMu_M150p0_dbs_1p0_2017_Skim.root',\n",
       " '/eos/cms/store/group/phys_exotica/bffZprime/nanoAODskimmed/private/2017_lpc/BFFZprimeToMuMu_M175p0_dbs_0p04_2017/BFFZprimeToMuMu_M175p0_dbs_0p04_2017_Skim.root',\n",
       " '/eos/cms/store/group/phys_exotica/bffZprime/nanoAODskimmed/private/2017_lpc/BFFZprimeToMuMu_M175p0_dbs_0p5_2017/BFFZprimeToMuMu_M175p0_dbs_0p5_2017_Skim.root',\n",
       " '/eos/cms/store/group/phys_exotica/bffZprime/nanoAODskimmed/private/2017_lpc/BFFZprimeToMuMu_M175p0_dbs_1p0_2017/BFFZprimeToMuMu_M175p0_dbs_1p0_2017_Skim.root',\n",
       " '/eos/cms/store/group/phys_exotica/bffZprime/nanoAODskimmed/private/2017_lpc/BFFZprimeToMuMu_M200p0_dbs_0p04_2017/BFFZprimeToMuMu_M200p0_dbs_0p04_2017_Skim.root',\n",
       " '/eos/cms/store/group/phys_exotica/bffZprime/nanoAODskimmed/private/2017_lpc/BFFZprimeToMuMu_M200p0_dbs_0p5_2017/BFFZprimeToMuMu_M200p0_dbs_0p5_2017_Skim.root',\n",
       " '/eos/cms/store/group/phys_exotica/bffZprime/nanoAODskimmed/private/2017_lpc/BFFZprimeToMuMu_M200p0_dbs_1p0_2017/BFFZprimeToMuMu_M200p0_dbs_1p0_2017_Skim.root']"
      ]
     },
     "execution_count": 45,
     "metadata": {},
     "output_type": "execute_result"
    }
   ],
   "source": [
    "files"
   ]
  },
  {
   "cell_type": "code",
   "execution_count": null,
   "metadata": {},
   "outputs": [],
   "source": []
  }
 ],
 "metadata": {
  "kernelspec": {
   "display_name": "Python 3",
   "language": "python",
   "name": "python3"
  },
  "language_info": {
   "codemirror_mode": {
    "name": "ipython",
    "version": 2
   },
   "file_extension": ".py",
   "mimetype": "text/x-python",
   "name": "python",
   "nbconvert_exporter": "python",
   "pygments_lexer": "ipython2",
   "version": "2.7.15+"
  }
 },
 "nbformat": 4,
 "nbformat_minor": 2
}
